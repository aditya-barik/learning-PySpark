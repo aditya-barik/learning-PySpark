{
 "cells": [
  {
   "cell_type": "code",
   "execution_count": 1,
   "metadata": {},
   "outputs": [],
   "source": [
    "from pyspark.sql import SparkSession\n",
    "\n",
    "spark = SparkSession.\\\n",
    "    builder.\\\n",
    "    master('local').\\\n",
    "    appName('recommender-system').\\\n",
    "    getOrCreate()"
   ]
  },
  {
   "cell_type": "code",
   "execution_count": 2,
   "metadata": {},
   "outputs": [],
   "source": [
    "from pyspark.ml.recommendation import ALS\n",
    "from pyspark.ml.evaluation import RegressionEvaluator"
   ]
  },
  {
   "cell_type": "code",
   "execution_count": 3,
   "metadata": {},
   "outputs": [
    {
     "name": "stdout",
     "output_type": "stream",
     "text": [
      "+-------+------+------+\n",
      "|movieId|rating|userId|\n",
      "+-------+------+------+\n",
      "|      2|   3.0|     0|\n",
      "|      3|   1.0|     0|\n",
      "|      5|   2.0|     0|\n",
      "|      9|   4.0|     0|\n",
      "|     11|   1.0|     0|\n",
      "|     12|   2.0|     0|\n",
      "|     15|   1.0|     0|\n",
      "|     17|   1.0|     0|\n",
      "|     19|   1.0|     0|\n",
      "|     21|   1.0|     0|\n",
      "|     23|   1.0|     0|\n",
      "|     26|   3.0|     0|\n",
      "|     27|   1.0|     0|\n",
      "|     28|   1.0|     0|\n",
      "|     29|   1.0|     0|\n",
      "|     30|   1.0|     0|\n",
      "|     31|   1.0|     0|\n",
      "|     34|   1.0|     0|\n",
      "|     37|   1.0|     0|\n",
      "|     41|   2.0|     0|\n",
      "+-------+------+------+\n",
      "only showing top 20 rows\n",
      "\n"
     ]
    }
   ],
   "source": [
    "df = spark.read.csv(\n",
    "    path='D:/learn-ab/learning-PySpark/sample-data/movielens-ratings.csv',\n",
    "    inferSchema=True,\n",
    "    header=True\n",
    ")\n",
    "df.show()"
   ]
  },
  {
   "cell_type": "code",
   "execution_count": 4,
   "metadata": {},
   "outputs": [
    {
     "name": "stdout",
     "output_type": "stream",
     "text": [
      "root\n",
      " |-- movieId: integer (nullable = true)\n",
      " |-- rating: double (nullable = true)\n",
      " |-- userId: integer (nullable = true)\n",
      "\n"
     ]
    }
   ],
   "source": [
    "df.printSchema()"
   ]
  },
  {
   "cell_type": "code",
   "execution_count": 5,
   "metadata": {},
   "outputs": [
    {
     "name": "stdout",
     "output_type": "stream",
     "text": [
      "+-------+------------------+------------------+------------------+\n",
      "|summary|           movieId|            rating|            userId|\n",
      "+-------+------------------+------------------+------------------+\n",
      "|  count|              1501|              1501|              1501|\n",
      "|   mean| 49.40572951365756|1.7741505662891406|14.383744170552964|\n",
      "| stddev|28.937034065088994| 1.187276166124803| 8.591040424293272|\n",
      "|    min|                 0|               1.0|                 0|\n",
      "|    max|                99|               5.0|                29|\n",
      "+-------+------------------+------------------+------------------+\n",
      "\n"
     ]
    }
   ],
   "source": [
    "df.describe().show()"
   ]
  },
  {
   "cell_type": "code",
   "execution_count": 6,
   "metadata": {},
   "outputs": [],
   "source": [
    "train_data, test_data = df.randomSplit([0.8, 0.2])"
   ]
  },
  {
   "cell_type": "code",
   "execution_count": 7,
   "metadata": {},
   "outputs": [
    {
     "name": "stdout",
     "output_type": "stream",
     "text": [
      "\u001b[1;31mInit signature:\u001b[0m\n",
      "\u001b[0mALS\u001b[0m\u001b[1;33m(\u001b[0m\u001b[1;33m\n",
      "\u001b[0m    \u001b[1;33m*\u001b[0m\u001b[1;33m,\u001b[0m\u001b[1;33m\n",
      "\u001b[0m    \u001b[0mrank\u001b[0m\u001b[1;33m:\u001b[0m \u001b[0mint\u001b[0m \u001b[1;33m=\u001b[0m \u001b[1;36m10\u001b[0m\u001b[1;33m,\u001b[0m\u001b[1;33m\n",
      "\u001b[0m    \u001b[0mmaxIter\u001b[0m\u001b[1;33m:\u001b[0m \u001b[0mint\u001b[0m \u001b[1;33m=\u001b[0m \u001b[1;36m10\u001b[0m\u001b[1;33m,\u001b[0m\u001b[1;33m\n",
      "\u001b[0m    \u001b[0mregParam\u001b[0m\u001b[1;33m:\u001b[0m \u001b[0mfloat\u001b[0m \u001b[1;33m=\u001b[0m \u001b[1;36m0.1\u001b[0m\u001b[1;33m,\u001b[0m\u001b[1;33m\n",
      "\u001b[0m    \u001b[0mnumUserBlocks\u001b[0m\u001b[1;33m:\u001b[0m \u001b[0mint\u001b[0m \u001b[1;33m=\u001b[0m \u001b[1;36m10\u001b[0m\u001b[1;33m,\u001b[0m\u001b[1;33m\n",
      "\u001b[0m    \u001b[0mnumItemBlocks\u001b[0m\u001b[1;33m:\u001b[0m \u001b[0mint\u001b[0m \u001b[1;33m=\u001b[0m \u001b[1;36m10\u001b[0m\u001b[1;33m,\u001b[0m\u001b[1;33m\n",
      "\u001b[0m    \u001b[0mimplicitPrefs\u001b[0m\u001b[1;33m:\u001b[0m \u001b[0mbool\u001b[0m \u001b[1;33m=\u001b[0m \u001b[1;32mFalse\u001b[0m\u001b[1;33m,\u001b[0m\u001b[1;33m\n",
      "\u001b[0m    \u001b[0malpha\u001b[0m\u001b[1;33m:\u001b[0m \u001b[0mfloat\u001b[0m \u001b[1;33m=\u001b[0m \u001b[1;36m1.0\u001b[0m\u001b[1;33m,\u001b[0m\u001b[1;33m\n",
      "\u001b[0m    \u001b[0muserCol\u001b[0m\u001b[1;33m:\u001b[0m \u001b[0mstr\u001b[0m \u001b[1;33m=\u001b[0m \u001b[1;34m'user'\u001b[0m\u001b[1;33m,\u001b[0m\u001b[1;33m\n",
      "\u001b[0m    \u001b[0mitemCol\u001b[0m\u001b[1;33m:\u001b[0m \u001b[0mstr\u001b[0m \u001b[1;33m=\u001b[0m \u001b[1;34m'item'\u001b[0m\u001b[1;33m,\u001b[0m\u001b[1;33m\n",
      "\u001b[0m    \u001b[0mseed\u001b[0m\u001b[1;33m:\u001b[0m \u001b[0mOptional\u001b[0m\u001b[1;33m[\u001b[0m\u001b[0mint\u001b[0m\u001b[1;33m]\u001b[0m \u001b[1;33m=\u001b[0m \u001b[1;32mNone\u001b[0m\u001b[1;33m,\u001b[0m\u001b[1;33m\n",
      "\u001b[0m    \u001b[0mratingCol\u001b[0m\u001b[1;33m:\u001b[0m \u001b[0mstr\u001b[0m \u001b[1;33m=\u001b[0m \u001b[1;34m'rating'\u001b[0m\u001b[1;33m,\u001b[0m\u001b[1;33m\n",
      "\u001b[0m    \u001b[0mnonnegative\u001b[0m\u001b[1;33m:\u001b[0m \u001b[0mbool\u001b[0m \u001b[1;33m=\u001b[0m \u001b[1;32mFalse\u001b[0m\u001b[1;33m,\u001b[0m\u001b[1;33m\n",
      "\u001b[0m    \u001b[0mcheckpointInterval\u001b[0m\u001b[1;33m:\u001b[0m \u001b[0mint\u001b[0m \u001b[1;33m=\u001b[0m \u001b[1;36m10\u001b[0m\u001b[1;33m,\u001b[0m\u001b[1;33m\n",
      "\u001b[0m    \u001b[0mintermediateStorageLevel\u001b[0m\u001b[1;33m:\u001b[0m \u001b[0mstr\u001b[0m \u001b[1;33m=\u001b[0m \u001b[1;34m'MEMORY_AND_DISK'\u001b[0m\u001b[1;33m,\u001b[0m\u001b[1;33m\n",
      "\u001b[0m    \u001b[0mfinalStorageLevel\u001b[0m\u001b[1;33m:\u001b[0m \u001b[0mstr\u001b[0m \u001b[1;33m=\u001b[0m \u001b[1;34m'MEMORY_AND_DISK'\u001b[0m\u001b[1;33m,\u001b[0m\u001b[1;33m\n",
      "\u001b[0m    \u001b[0mcoldStartStrategy\u001b[0m\u001b[1;33m:\u001b[0m \u001b[0mstr\u001b[0m \u001b[1;33m=\u001b[0m \u001b[1;34m'nan'\u001b[0m\u001b[1;33m,\u001b[0m\u001b[1;33m\n",
      "\u001b[0m    \u001b[0mblockSize\u001b[0m\u001b[1;33m:\u001b[0m \u001b[0mint\u001b[0m \u001b[1;33m=\u001b[0m \u001b[1;36m4096\u001b[0m\u001b[1;33m,\u001b[0m\u001b[1;33m\n",
      "\u001b[0m\u001b[1;33m)\u001b[0m\u001b[1;33m\u001b[0m\u001b[1;33m\u001b[0m\u001b[0m\n",
      "\u001b[1;31mDocstring:\u001b[0m     \n",
      "Alternating Least Squares (ALS) matrix factorization.\n",
      "\n",
      "ALS attempts to estimate the ratings matrix `R` as the product of\n",
      "two lower-rank matrices, `X` and `Y`, i.e. `X * Yt = R`. Typically\n",
      "these approximations are called 'factor' matrices. The general\n",
      "approach is iterative. During each iteration, one of the factor\n",
      "matrices is held constant, while the other is solved for using least\n",
      "squares. The newly-solved factor matrix is then held constant while\n",
      "solving for the other factor matrix.\n",
      "\n",
      "This is a blocked implementation of the ALS factorization algorithm\n",
      "that groups the two sets of factors (referred to as \"users\" and\n",
      "\"products\") into blocks and reduces communication by only sending\n",
      "one copy of each user vector to each product block on each\n",
      "iteration, and only for the product blocks that need that user's\n",
      "feature vector. This is achieved by pre-computing some information\n",
      "about the ratings matrix to determine the \"out-links\" of each user\n",
      "(which blocks of products it will contribute to) and \"in-link\"\n",
      "information for each product (which of the feature vectors it\n",
      "receives from each user block it will depend on). This allows us to\n",
      "send only an array of feature vectors between each user block and\n",
      "product block, and have the product block find the users' ratings\n",
      "and update the products based on these messages.\n",
      "\n",
      "For implicit preference data, the algorithm used is based on\n",
      "`\"Collaborative Filtering for Implicit Feedback Datasets\",\n",
      "<https://doi.org/10.1109/ICDM.2008.22>`_, adapted for the blocked\n",
      "approach used here.\n",
      "\n",
      "Essentially instead of finding the low-rank approximations to the\n",
      "rating matrix `R`, this finds the approximations for a preference\n",
      "matrix `P` where the elements of `P` are 1 if r > 0 and 0 if r <= 0.\n",
      "The ratings then act as 'confidence' values related to strength of\n",
      "indicated user preferences rather than explicit ratings given to\n",
      "items.\n",
      "\n",
      ".. versionadded:: 1.4.0\n",
      "\n",
      "Notes\n",
      "-----\n",
      "The input rating dataframe to the ALS implementation should be deterministic.\n",
      "Nondeterministic data can cause failure during fitting ALS model.\n",
      "For example, an order-sensitive operation like sampling after a repartition makes\n",
      "dataframe output nondeterministic, like `df.repartition(2).sample(False, 0.5, 1618)`.\n",
      "Checkpointing sampled dataframe or adding a sort before sampling can help make the\n",
      "dataframe deterministic.\n",
      "\n",
      "Examples\n",
      "--------\n",
      ">>> df = spark.createDataFrame(\n",
      "...     [(0, 0, 4.0), (0, 1, 2.0), (1, 1, 3.0), (1, 2, 4.0), (2, 1, 1.0), (2, 2, 5.0)],\n",
      "...     [\"user\", \"item\", \"rating\"])\n",
      ">>> als = ALS(rank=10, seed=0)\n",
      ">>> als.setMaxIter(5)\n",
      "ALS...\n",
      ">>> als.getMaxIter()\n",
      "5\n",
      ">>> als.setRegParam(0.1)\n",
      "ALS...\n",
      ">>> als.getRegParam()\n",
      "0.1\n",
      ">>> als.clear(als.regParam)\n",
      ">>> model = als.fit(df)\n",
      ">>> model.getBlockSize()\n",
      "4096\n",
      ">>> model.getUserCol()\n",
      "'user'\n",
      ">>> model.setUserCol(\"user\")\n",
      "ALSModel...\n",
      ">>> model.getItemCol()\n",
      "'item'\n",
      ">>> model.setPredictionCol(\"newPrediction\")\n",
      "ALS...\n",
      ">>> model.rank\n",
      "10\n",
      ">>> model.userFactors.orderBy(\"id\").collect()\n",
      "[Row(id=0, features=[...]), Row(id=1, ...), Row(id=2, ...)]\n",
      ">>> test = spark.createDataFrame([(0, 2), (1, 0), (2, 0)], [\"user\", \"item\"])\n",
      ">>> predictions = sorted(model.transform(test).collect(), key=lambda r: r[0])\n",
      ">>> predictions[0]\n",
      "Row(user=0, item=2, newPrediction=0.6929...)\n",
      ">>> predictions[1]\n",
      "Row(user=1, item=0, newPrediction=3.47356...)\n",
      ">>> predictions[2]\n",
      "Row(user=2, item=0, newPrediction=-0.899198...)\n",
      ">>> user_recs = model.recommendForAllUsers(3)\n",
      ">>> user_recs.where(user_recs.user == 0)        .select(\"recommendations.item\", \"recommendations.rating\").collect()\n",
      "[Row(item=[0, 1, 2], rating=[3.910..., 1.997..., 0.692...])]\n",
      ">>> item_recs = model.recommendForAllItems(3)\n",
      ">>> item_recs.where(item_recs.item == 2)        .select(\"recommendations.user\", \"recommendations.rating\").collect()\n",
      "[Row(user=[2, 1, 0], rating=[4.892..., 3.991..., 0.692...])]\n",
      ">>> user_subset = df.where(df.user == 2)\n",
      ">>> user_subset_recs = model.recommendForUserSubset(user_subset, 3)\n",
      ">>> user_subset_recs.select(\"recommendations.item\", \"recommendations.rating\").first()\n",
      "Row(item=[2, 1, 0], rating=[4.892..., 1.076..., -0.899...])\n",
      ">>> item_subset = df.where(df.item == 0)\n",
      ">>> item_subset_recs = model.recommendForItemSubset(item_subset, 3)\n",
      ">>> item_subset_recs.select(\"recommendations.user\", \"recommendations.rating\").first()\n",
      "Row(user=[0, 1, 2], rating=[3.910..., 3.473..., -0.899...])\n",
      ">>> als_path = temp_path + \"/als\"\n",
      ">>> als.save(als_path)\n",
      ">>> als2 = ALS.load(als_path)\n",
      ">>> als.getMaxIter()\n",
      "5\n",
      ">>> model_path = temp_path + \"/als_model\"\n",
      ">>> model.save(model_path)\n",
      ">>> model2 = ALSModel.load(model_path)\n",
      ">>> model.rank == model2.rank\n",
      "True\n",
      ">>> sorted(model.userFactors.collect()) == sorted(model2.userFactors.collect())\n",
      "True\n",
      ">>> sorted(model.itemFactors.collect()) == sorted(model2.itemFactors.collect())\n",
      "True\n",
      ">>> model.transform(test).take(1) == model2.transform(test).take(1)\n",
      "True\n",
      "\u001b[1;31mInit docstring:\u001b[0m\n",
      "__init__(self, \\*, rank=10, maxIter=10, regParam=0.1, numUserBlocks=10,\n",
      "         numItemBlocks=10, implicitPrefs=False, alpha=1.0, userCol=\"user\", itemCol=\"item\",                  seed=None, ratingCol=\"rating\", nonnegative=False, checkpointInterval=10,                  intermediateStorageLevel=\"MEMORY_AND_DISK\",                  finalStorageLevel=\"MEMORY_AND_DISK\", coldStartStrategy=\"nan\", blockSize=4096)\n",
      "\u001b[1;31mFile:\u001b[0m           d:\\learn-ab\\learning-pyspark\\.env\\lib\\site-packages\\pyspark\\ml\\recommendation.py\n",
      "\u001b[1;31mType:\u001b[0m           ABCMeta\n",
      "\u001b[1;31mSubclasses:\u001b[0m     "
     ]
    }
   ],
   "source": [
    "?ALS"
   ]
  },
  {
   "cell_type": "code",
   "execution_count": 8,
   "metadata": {},
   "outputs": [],
   "source": [
    "als = ALS(\n",
    "    maxIter=5,\n",
    "    regParam=0.01,\n",
    "    userCol='userId',\n",
    "    itemCol='movieId',\n",
    "    ratingCol='rating'\n",
    ")"
   ]
  },
  {
   "cell_type": "code",
   "execution_count": 9,
   "metadata": {},
   "outputs": [],
   "source": [
    "als_model = als.fit(train_data)\n",
    "als_preds = als_model.transform(test_data)"
   ]
  },
  {
   "cell_type": "code",
   "execution_count": 10,
   "metadata": {},
   "outputs": [
    {
     "name": "stdout",
     "output_type": "stream",
     "text": [
      "+-------+------+------+----------+\n",
      "|movieId|rating|userId|prediction|\n",
      "+-------+------+------+----------+\n",
      "|      0|   3.0|    28|0.40441638|\n",
      "|      3|   1.0|    26|  0.955033|\n",
      "|      4|   1.0|    12| 2.6503055|\n",
      "|      3|   1.0|    13| 1.2486162|\n",
      "|      4|   2.0|    13| 2.3501046|\n",
      "|      5|   1.0|    13| 1.0728198|\n",
      "|      1|   1.0|     6| 1.4384822|\n",
      "|      6|   1.0|     6|0.73272073|\n",
      "|      1|   1.0|    20| 1.5648066|\n",
      "|      4|   2.0|    20| 2.0827405|\n",
      "|      1|   1.0|     5|   4.81714|\n",
      "|      1|   1.0|    19| 0.7521463|\n",
      "|      2|   1.0|    17| 0.8236364|\n",
      "|      2|   4.0|     8|  4.024686|\n",
      "|      2|   1.0|    23|  2.034547|\n",
      "|      2|   2.0|     7| 2.3021975|\n",
      "|      4|   1.0|     7| 0.6697476|\n",
      "|      0|   1.0|    11| 1.5916053|\n",
      "|      1|   1.0|    14| 1.1045423|\n",
      "|      3|   1.0|     0|0.41607547|\n",
      "+-------+------+------+----------+\n",
      "only showing top 20 rows\n",
      "\n"
     ]
    }
   ],
   "source": [
    "als_preds.show()"
   ]
  },
  {
   "cell_type": "code",
   "execution_count": 11,
   "metadata": {},
   "outputs": [],
   "source": [
    "als_eval = RegressionEvaluator(\n",
    "    metricName='rmse',\n",
    "    labelCol='rating',\n",
    "    predictionCol='prediction'\n",
    ")"
   ]
  },
  {
   "cell_type": "code",
   "execution_count": 12,
   "metadata": {},
   "outputs": [
    {
     "name": "stdout",
     "output_type": "stream",
     "text": [
      "RMSE for Recommendation System : 1.760955972982973\n"
     ]
    }
   ],
   "source": [
    "rmse = als_eval.evaluate(als_preds)\n",
    "print(f'RMSE for Recommendation System : {rmse}')"
   ]
  },
  {
   "cell_type": "code",
   "execution_count": 13,
   "metadata": {},
   "outputs": [
    {
     "name": "stdout",
     "output_type": "stream",
     "text": [
      "+-------+------+\n",
      "|movieId|userId|\n",
      "+-------+------+\n",
      "|      0|    11|\n",
      "|      9|    11|\n",
      "|     20|    11|\n",
      "|     22|    11|\n",
      "|     23|    11|\n",
      "|     25|    11|\n",
      "|     36|    11|\n",
      "|     37|    11|\n",
      "|     40|    11|\n",
      "|     61|    11|\n",
      "|     62|    11|\n",
      "|     67|    11|\n",
      "|     97|    11|\n",
      "+-------+------+\n",
      "\n"
     ]
    }
   ],
   "source": [
    "single_user = test_data.filter(test_data['userId']==11).select('movieId', 'userId')\n",
    "single_user.show()"
   ]
  },
  {
   "cell_type": "code",
   "execution_count": 14,
   "metadata": {},
   "outputs": [
    {
     "name": "stdout",
     "output_type": "stream",
     "text": [
      "+-------+------+-----------+\n",
      "|movieId|userId| prediction|\n",
      "+-------+------+-----------+\n",
      "|     23|    11|  4.6228976|\n",
      "|      9|    11|   4.439014|\n",
      "|     25|    11|  3.4724045|\n",
      "|     37|    11|  3.4162583|\n",
      "|     36|    11|  2.7046664|\n",
      "|     62|    11|  2.6601183|\n",
      "|     22|    11|  2.5334475|\n",
      "|     61|    11|  2.2546299|\n",
      "|      0|    11|  1.5916053|\n",
      "|     97|    11|  1.4051706|\n",
      "|     20|    11|  1.3864875|\n",
      "|     67|    11|  1.1807175|\n",
      "|     40|    11|0.026035845|\n",
      "+-------+------+-----------+\n",
      "\n"
     ]
    }
   ],
   "source": [
    "recommendations = als_model.transform(single_user)\n",
    "recommendations.orderBy('prediction', ascending=False).show()"
   ]
  },
  {
   "cell_type": "code",
   "execution_count": null,
   "metadata": {},
   "outputs": [],
   "source": []
  }
 ],
 "metadata": {
  "kernelspec": {
   "display_name": ".env",
   "language": "python",
   "name": "python3"
  },
  "language_info": {
   "codemirror_mode": {
    "name": "ipython",
    "version": 3
   },
   "file_extension": ".py",
   "mimetype": "text/x-python",
   "name": "python",
   "nbconvert_exporter": "python",
   "pygments_lexer": "ipython3",
   "version": "3.12.2"
  }
 },
 "nbformat": 4,
 "nbformat_minor": 2
}
